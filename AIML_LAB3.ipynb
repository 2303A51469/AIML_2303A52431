{
  "nbformat": 4,
  "nbformat_minor": 0,
  "metadata": {
    "colab": {
      "provenance": [],
      "authorship_tag": "ABX9TyOmCcSqYMPJyOYWqDvyPVqy",
      "include_colab_link": true
    },
    "kernelspec": {
      "name": "python3",
      "display_name": "Python 3"
    },
    "language_info": {
      "name": "python"
    }
  },
  "cells": [
    {
      "cell_type": "markdown",
      "metadata": {
        "id": "view-in-github",
        "colab_type": "text"
      },
      "source": [
        "<a href=\"https://colab.research.google.com/github/2303A51469/AIML_2303A52431/blob/main/AIML_LAB3.ipynb\" target=\"_parent\"><img src=\"https://colab.research.google.com/assets/colab-badge.svg\" alt=\"Open In Colab\"/></a>"
      ]
    },
    {
      "cell_type": "markdown",
      "source": [
        "1 Implement the AI Game Strategy\n",
        "Part 1 –(a). Install the Python Libraries required for Game Strategy\n",
        "1. Install the python libraries - collections, random, math, functools,\n",
        "cache = functools.lru cache(10**6)\n",
        "2. Implement a Game Class Constructor using action, is terminal, result, utility functions\n",
        "3. A game is similar to a problem, but it has a terminal test instead of a goal test, and a\n",
        "utility for each terminal state.\n",
        "4. Create a game subclass and implement actions, result, is terminal, and utility.\n",
        "5. You will also need to set the initial attribute to the initial state; this can be done in the\n",
        "constructor."
      ],
      "metadata": {
        "id": "bGsJveKSK61i"
      }
    },
    {
      "cell_type": "code",
      "execution_count": null,
      "metadata": {
        "id": "9WPLLmPtK4vP"
      },
      "outputs": [],
      "source": [
        "import collections\n",
        "import random\n",
        "import math\n",
        "from functools import lru_cache"
      ]
    },
    {
      "cell_type": "code",
      "source": [
        "cache = lru_cache(maxsize=10**6)\n",
        "\n",
        "class Game:\n",
        "    def __init__(self, initial_state):\n",
        "        self.initial_state = initial_state\n",
        "\n",
        "    def actions(self, state):\n",
        "        \"\"\"Return a list of possible actions given the state.\"\"\"\n",
        "        raise NotImplementedError\n",
        "\n",
        "    def result(self, state, action):\n",
        "        \"\"\"Return the state resulting from taking an action from the current state.\"\"\"\n",
        "        raise NotImplementedError\n",
        "\n",
        "    def is_terminal(self, state):\n",
        "        \"\"\"Check if the given state is a terminal state.\"\"\"\n",
        "        raise NotImplementedError\n",
        "\n",
        "    def utility(self, state):\n",
        "        \"\"\"Return the utility value of a terminal state.\"\"\"\n",
        "        raise NotImplementedError\n",
        "\n",
        "    def initial_state(self):\n",
        "        \"\"\"Return the initial state of the game.\"\"\"\n",
        "        return self.initial_state"
      ],
      "metadata": {
        "id": "w959_rPoNNFK"
      },
      "execution_count": null,
      "outputs": []
    },
    {
      "cell_type": "code",
      "source": [
        "class SimpleGame(Game):\n",
        "    def __init__(self, initial_state):\n",
        "        super().__init__(initial_state)\n",
        "\n",
        "    def actions(self, state):\n",
        "        \"\"\"Define possible actions based on the state.\"\"\"\n",
        "        return ['increment', 'decrement']\n",
        "\n",
        "    def result(self, state, action):\n",
        "        \"\"\"Define the result of applying an action to the state.\"\"\"\n",
        "        if action == 'increment':\n",
        "            return state + 1\n",
        "        elif action == 'decrement':\n",
        "            return state - 1\n",
        "        else:\n",
        "            raise ValueError(\"Invalid action\")\n",
        "\n",
        "    def is_terminal(self, state):\n",
        "        \"\"\"Define terminal states. For example, a state is terminal if it is 0 or 10.\"\"\"\n",
        "        return state == 0 or state == 10\n",
        "\n",
        "    def utility(self, state):\n",
        "        \"\"\"Define utility values for terminal states. Example: 10 if the state is 10, -10 if the state is 0.\"\"\"\n",
        "        if state == 10:\n",
        "            return 10\n",
        "        elif state == 0:\n",
        "            return -10\n",
        "        else:\n",
        "            raise ValueError(\"Utility function called on non-terminal state\")"
      ],
      "metadata": {
        "id": "6ytPGVjeLQPu"
      },
      "execution_count": null,
      "outputs": []
    },
    {
      "cell_type": "code",
      "source": [
        "game = SimpleGame(initial_state=5)\n",
        "state = game.initial_state\n",
        "\n",
        "print(\"Initial state:\", state)\n",
        "\n",
        "for action in game.actions(state):\n",
        "    new_state = game.result(state, action)\n",
        "    if game.is_terminal(new_state):\n",
        "        print(f\"Action: {action}, New State: {new_state}, Utility: {game.utility(new_state)}\")\n",
        "    else:\n",
        "        print(f\"Action: {action}, New State: {new_state}\")"
      ],
      "metadata": {
        "colab": {
          "base_uri": "https://localhost:8080/"
        },
        "id": "Ei6wKSclLXom",
        "outputId": "131b27c9-11ff-4cc4-c443-5c93a2d5758a"
      },
      "execution_count": null,
      "outputs": [
        {
          "output_type": "stream",
          "name": "stdout",
          "text": [
            "Initial state: 5\n",
            "Action: increment, New State: 6\n",
            "Action: decrement, New State: 4\n"
          ]
        }
      ]
    },
    {
      "cell_type": "markdown",
      "source": [
        "Part-02: Implementation of Game Strategy Algorithm\n",
        "MiniMax Tree\n",
        "\n",
        "Alpha-Beta Search Algorithm"
      ],
      "metadata": {
        "id": "Q_nDdeQ7JOqC"
      }
    },
    {
      "cell_type": "code",
      "source": [
        "import math\n",
        "\n",
        "# Define the game tree as a simple dictionary\n",
        "# Each state is a key, and its possible actions and resulting states are defined\n",
        "game_tree = {\n",
        "    5: {'actions': ['increment', 'decrement']},\n",
        "    6: {'actions': []},   # Terminal states\n",
        "    4: {'actions': []},   # Terminal states\n",
        "    10: {'actions': []},  # Terminal states with utility 10\n",
        "    0: {'actions': []}    # Terminal states with utility -10\n",
        "}\n",
        "\n",
        "# Define utilities for terminal states\n",
        "utilities = {\n",
        "    10: 10,\n",
        "    0: -10\n",
        "}\n",
        "\n",
        "def alpha_beta_search(initial_state):\n",
        "    def max_value(state, alpha, beta):\n",
        "        if state in utilities:\n",
        "            return utilities[state]\n",
        "\n",
        "        v = -math.inf\n",
        "        for action in game_tree[state]['actions']:\n",
        "            next_state = result(state, action)\n",
        "            v = max(v, min_value(next_state, alpha, beta))\n",
        "            if v >= beta:\n",
        "                return v\n",
        "            alpha = max(alpha, v)\n",
        "        return v\n",
        "\n",
        "    def min_value(state, alpha, beta):\n",
        "        if state in utilities:\n",
        "            return utilities[state]\n",
        "\n",
        "        v = math.inf\n",
        "        for action in game_tree[state]['actions']:\n",
        "            next_state = result(state, action)\n",
        "            v = min(v, max_value(next_state, alpha, beta))\n",
        "            if v <= alpha:\n",
        "                return v\n",
        "            beta = min(beta, v)\n",
        "        return v\n",
        "\n",
        "    def result(state, action):\n",
        "        if action == 'increment':\n",
        "            return state + 1\n",
        "        elif action == 'decrement':\n",
        "            return state - 1\n",
        "        else:\n",
        "            raise ValueError(\"Invalid action\")\n",
        "\n",
        "    best_action = None\n",
        "    alpha = -math.inf\n",
        "    beta = math.inf\n",
        "\n",
        "    for action in game_tree[initial_state]['actions']:\n",
        "        next_state = result(initial_state, action)\n",
        "        v = min_value(next_state, alpha, beta)\n",
        "        if v > alpha:\n",
        "            alpha = v\n",
        "            best_action = action\n",
        "\n",
        "    return best_action\n",
        "\n",
        "# Example usage\n",
        "initial_state = 5\n",
        "best_action = alpha_beta_search(initial_state)\n",
        "print(f\"Best action from state {initial_state} is: {best_action}\")"
      ],
      "metadata": {
        "colab": {
          "base_uri": "https://localhost:8080/"
        },
        "id": "lxvJ9KHhTXTy",
        "outputId": "8630a6a3-0307-47df-f176-3f1e8430df96"
      },
      "execution_count": null,
      "outputs": [
        {
          "output_type": "stream",
          "name": "stdout",
          "text": [
            "Best action from state 5 is: increment\n"
          ]
        }
      ]
    },
    {
      "cell_type": "markdown",
      "source": [
        "Part-03: Implement the Game Strategy using TicTacToe"
      ],
      "metadata": {
        "id": "B0Zyb0OLJatR"
      }
    },
    {
      "cell_type": "code",
      "source": [
        "class TicTacToe(Game):\n",
        "    \"\"\"Play TicTacToe on an `height` by `width` board, needing `k` in a row to win.\n",
        "    'X' plays first against 'O'.\"\"\"\n",
        "\n",
        "    def __init__(self, height=3, width=3, k=3):\n",
        "        self.k = k # k in a row\n",
        "        self.squares = {(x, y) for x in range(width) for y in range(height)}\n",
        "        self.initial = Board(height=height, width=width, to_move='X', utility=0)\n",
        "\n",
        "    def actions(self, board):\n",
        "        \"\"\"Legal moves are any square not yet taken.\"\"\"\n",
        "        return self.squares - set(board)\n",
        "\n",
        "    def result(self, board, square):\n",
        "        \"\"\"Place a marker for current player on square.\"\"\"\n",
        "        player = board.to_move\n",
        "        board = board.new({square: player}, to_move=('O' if player == 'X' else 'X'))\n",
        "        win = k_in_row(board, player, square, self.k)\n",
        "        board.utility = (0 if not win else +1 if player == 'X' else -1)\n",
        "        return board\n",
        "\n",
        "    def utility(self, board, player):\n",
        "        \"\"\"Return the value to player; 1 for win, -1 for loss, 0 otherwise.\"\"\"\n",
        "        return board.utility if player == 'X' else -board.utility\n",
        "\n",
        "    def is_terminal(self, board):\n",
        "        \"\"\"A board is a terminal state if it is won or there are no empty squares.\"\"\"\n",
        "        return board.utility != 0 or len(self.squares) == len(board)\n",
        "\n",
        "    def display(self, board): print(board)\n",
        "\n",
        "\n",
        "def k_in_row(board, player, square, k):\n",
        "    \"\"\"True if player has k pieces in a line through square.\"\"\"\n",
        "    def in_row(x, y, dx, dy): return 0 if board[x, y] != player else 1 + in_row(x + dx, y + dy, dx, dy)\n",
        "    return any(in_row(*square, dx, dy) + in_row(*square, -dx, -dy)-1>=k\n",
        "               for (dx, dy) in ((0, 1), (1, 0), (1, 1), (1, -1)))"
      ],
      "metadata": {
        "id": "Xf26Lj8KJZ-J"
      },
      "execution_count": null,
      "outputs": []
    },
    {
      "cell_type": "code",
      "source": [
        "from collections import defaultdict # import the defaultdict class from the collections module\n",
        "\n",
        "class Board(defaultdict):\n",
        "    \"\"\"A board has the player to move, a cached utility value,\n",
        "    and a dict of {(x, y): player} entries, where player is 'X' or 'O'.\"\"\"\n",
        "    empty = '.'\n",
        "    off = '#'\n",
        "\n",
        "    def __init__(self, width=8, height=8, to_move=None, **kwds):\n",
        "        self.__dict__.update(width=width, height=height, to_move=to_move, **kwds)\n",
        "\n",
        "    def new(self, changes: dict, **kwds) -> 'Board':\n",
        "        \"Given a dict of {(x, y): contents} changes, return a new Board with the changes.\"\n",
        "        board = Board(width=self.width, height=self.height, **kwds)\n",
        "        board.update(self)\n",
        "        board.update(changes)\n",
        "        return board\n",
        "\n",
        "    def __missing__(self, loc):\n",
        "        x, y = loc\n",
        "        if 0 <= x < self.width and 0 <= y < self.height:\n",
        "            return self.empty\n",
        "        else:\n",
        "            return self.off\n",
        "\n",
        "    def __hash__(self):\n",
        "        return hash(tuple(sorted(self.items()))) + hash(self.to_move)\n",
        "\n",
        "    def __repr__(self):\n",
        "        def row(y): return ' '.join(self[x, y] for x in range(self.width))\n",
        "        return '\\n'.join(map(row, range(self.height))) +  '\\n'"
      ],
      "metadata": {
        "id": "at8HFTHnJjWn"
      },
      "execution_count": null,
      "outputs": []
    },
    {
      "cell_type": "code",
      "source": [
        "def random_player(game, state): return random.choice(list(game.actions(state)))\n",
        "\n",
        "def player(search_algorithm):\n",
        "    \"\"\"A game player who uses the specified search algorithm\"\"\"\n",
        "    return lambda game, state: search_algorithm(game, state)[1]"
      ],
      "metadata": {
        "id": "v9kE-XvEJ_TW"
      },
      "execution_count": null,
      "outputs": []
    },
    {
      "cell_type": "markdown",
      "source": [
        "Evaluate the Game Strategy using TicTokToe"
      ],
      "metadata": {
        "id": "885azCumKD8y"
      }
    },
    {
      "cell_type": "code",
      "source": [
        "play_game(TicTacToe(), dict(X=random_player, O=player(alphabeta_search)), verbose=True).utility"
      ],
      "metadata": {
        "colab": {
          "base_uri": "https://localhost:8080/"
        },
        "id": "zu3Ct1pHKFIH",
        "outputId": "ccbab07d-6e07-4df7-8f9d-7c26b3b928f8"
      },
      "execution_count": null,
      "outputs": [
        {
          "output_type": "stream",
          "name": "stdout",
          "text": [
            "Player X move: (1, 2)\n",
            ". . .\n",
            ". . .\n",
            ". X .\n",
            "\n",
            "Player O move: (1, 1)\n",
            ". . .\n",
            ". O .\n",
            ". X .\n",
            "\n",
            "Player X move: (2, 1)\n",
            ". . .\n",
            ". O X\n",
            ". X .\n",
            "\n",
            "Player O move: (2, 0)\n",
            ". . O\n",
            ". O X\n",
            ". X .\n",
            "\n",
            "Player X move: (0, 1)\n",
            ". . O\n",
            "X O X\n",
            ". X .\n",
            "\n",
            "Player O move: (1, 0)\n",
            ". O O\n",
            "X O X\n",
            ". X .\n",
            "\n",
            "Player X move: (0, 0)\n",
            "X O O\n",
            "X O X\n",
            ". X .\n",
            "\n",
            "Player O move: (0, 2)\n",
            "X O O\n",
            "X O X\n",
            "O X .\n",
            "\n"
          ]
        },
        {
          "output_type": "execute_result",
          "data": {
            "text/plain": [
              "-1"
            ]
          },
          "metadata": {},
          "execution_count": 60
        }
      ]
    },
    {
      "cell_type": "code",
      "source": [
        "play_game(TicTacToe(), dict(X=player(alphabeta_search), O=player(minimax_search)), verbose=True).utility"
      ],
      "metadata": {
        "colab": {
          "base_uri": "https://localhost:8080/"
        },
        "id": "YBNf-jL2KQIu",
        "outputId": "bb835eb8-135c-49c9-a9dc-82a3c51705df"
      },
      "execution_count": null,
      "outputs": [
        {
          "output_type": "stream",
          "name": "stdout",
          "text": [
            "Player X move: (0, 1)\n",
            ". . .\n",
            "X . .\n",
            ". . .\n",
            "\n",
            "Player O move: (2, 1)\n",
            ". . .\n",
            "X . O\n",
            ". . .\n",
            "\n",
            "Player X move: (1, 2)\n",
            ". . .\n",
            "X . O\n",
            ". X .\n",
            "\n",
            "Player O move: (0, 0)\n",
            "O . .\n",
            "X . O\n",
            ". X .\n",
            "\n",
            "Player X move: (1, 1)\n",
            "O . .\n",
            "X X O\n",
            ". X .\n",
            "\n",
            "Player O move: (1, 0)\n",
            "O O .\n",
            "X X O\n",
            ". X .\n",
            "\n",
            "Player X move: (2, 0)\n",
            "O O X\n",
            "X X O\n",
            ". X .\n",
            "\n",
            "Player O move: (0, 2)\n",
            "O O X\n",
            "X X O\n",
            "O X .\n",
            "\n",
            "Player X move: (2, 2)\n",
            "O O X\n",
            "X X O\n",
            "O X X\n",
            "\n"
          ]
        },
        {
          "output_type": "execute_result",
          "data": {
            "text/plain": [
              "0"
            ]
          },
          "metadata": {},
          "execution_count": 61
        }
      ]
    }
  ]
}