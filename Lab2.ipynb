{
  "nbformat": 4,
  "nbformat_minor": 0,
  "metadata": {
    "colab": {
      "provenance": [],
      "authorship_tag": "ABX9TyNP1oiixQFr/7/h0yN4rWcf",
      "include_colab_link": true
    },
    "kernelspec": {
      "name": "python3",
      "display_name": "Python 3"
    },
    "language_info": {
      "name": "python"
    }
  },
  "cells": [
    {
      "cell_type": "markdown",
      "metadata": {
        "id": "view-in-github",
        "colab_type": "text"
      },
      "source": [
        "<a href=\"https://colab.research.google.com/github/2303A51469/AIML_2303A52431/blob/main/Lab2.ipynb\" target=\"_parent\"><img src=\"https://colab.research.google.com/assets/colab-badge.svg\" alt=\"Open In Colab\"/></a>"
      ]
    },
    {
      "cell_type": "markdown",
      "source": [
        "BREADTH FIRST SEARCH ALGORITHM\n",
        "\n",
        "Part 1 – Implement Breadth First Search Algorithm using a Queue\n",
        "1. Given a graph with adjacency list and a starting vertex and we have to traverse the\n",
        "graph.\n",
        "2. We will first print the value in the starting vertex,\n",
        "3. Continue to print the value of neighbors of the starting vertex and\n",
        "4. Next move on to the next level after completing the current level till all the vertices of\n",
        "the graph are printed."
      ],
      "metadata": {
        "id": "DjvW9_IvDpu5"
      }
    },
    {
      "cell_type": "code",
      "execution_count": null,
      "metadata": {
        "colab": {
          "base_uri": "https://localhost:8080/"
        },
        "id": "7ZBldOyPDkrQ",
        "outputId": "93d12070-de7b-4be3-f229-f7c769e43954"
      },
      "outputs": [
        {
          "output_type": "stream",
          "name": "stdout",
          "text": [
            "Adjacent nodes of the diagram {0: [1, 3], 1: [0, 2, 3], 2: [1, 4, 5], 3: [0, 1, 4], 4: [2, 3, 5], 5: [2, 4]}\n"
          ]
        }
      ],
      "source": [
        "from queue import Queue\n",
        "graph = { 0:[1,3], 1:[0,2,3], 2:[1,4,5], 3:[0,1,4], 4:[2,3,5], 5:[2,4]}\n",
        "print(\"Adjacent nodes of the diagram\" , graph)"
      ]
    },
    {
      "cell_type": "code",
      "source": [
        "visited =[]\n",
        "queue =[]"
      ],
      "metadata": {
        "id": "-eKP6dbBH-6f"
      },
      "execution_count": null,
      "outputs": []
    },
    {
      "cell_type": "code",
      "source": [
        "def bfs(graph, source):\n",
        "  Q = Queue()\n",
        "  visited_vertices = set()\n",
        "  Q.put(source)\n",
        "  visited_vertices.update({0})\n",
        "  while not Q.empty():\n",
        "    vertex = Q.get()\n",
        "    print(vertex, end=\" --> \")\n",
        "    for u in graph[vertex]:\n",
        "      if u not in visited_vertices:\n",
        "        Q.put(u)\n",
        "        visited_vertices.update({u})\n",
        "print(\"BFS traversal of the diagram\")\n",
        "bfs(graph, 0)"
      ],
      "metadata": {
        "colab": {
          "base_uri": "https://localhost:8080/"
        },
        "id": "R6gKq9E6GwzD",
        "outputId": "aa310752-768a-445f-ed70-17e58aa251fe"
      },
      "execution_count": null,
      "outputs": [
        {
          "output_type": "stream",
          "name": "stdout",
          "text": [
            "BFS traversal of the diagram\n",
            "0 --> 1 --> 3 --> 2 --> 4 --> 5 --> "
          ]
        }
      ]
    },
    {
      "cell_type": "markdown",
      "source": [
        "DEPTH FIRST SEARCH ALGORITHM"
      ],
      "metadata": {
        "id": "Cjb1ug3hTj9z"
      }
    },
    {
      "cell_type": "markdown",
      "source": [
        "Part 2 – Implement Depth First Search Algorithm using a Stack\n",
        "0.1 DFS Stack implementations steps to be followed:\n",
        "1. Start at the root node and push it onto the stack.\n",
        "2. Check for any adjacent nodes of the tree and select one node.\n",
        "3. Traverse the entire branch of the selected node and push all the nodes into the stack.\n",
        "4. Upon reaching the end of a branch (no more adjacent nodes) ie nth leaf node, move\n",
        "back by a single step and look for adjacent nodes of the n-1th node.\n",
        "5. If there are adjacent nodes for the n-1th node, traverse those branches and push nodes\n",
        "onto the stack.\n"
      ],
      "metadata": {
        "id": "e-vRcsUBKdny"
      }
    },
    {
      "cell_type": "code",
      "source": [
        "graph={\n",
        "    'A':['B','S'],'B':['A'],'C':['D','S','F'],'D':['C'],'E':['C','H'],'F':['C','G'],'G':['S','F','H'],'H':['G','E'],'S':['A','C','G']\n",
        "}\n",
        "print(\"Adjacent nodes of a diagram are\",graph)"
      ],
      "metadata": {
        "colab": {
          "base_uri": "https://localhost:8080/"
        },
        "id": "wuWKvXe2Ji6q",
        "outputId": "2ef4a9cd-fa09-457c-e7c2-708d2acfec64"
      },
      "execution_count": null,
      "outputs": [
        {
          "output_type": "stream",
          "name": "stdout",
          "text": [
            "Adjacent nodes of a diagram are {'A': ['B', 'S'], 'B': ['A'], 'C': ['D', 'S', 'F'], 'D': ['C'], 'E': ['C', 'H'], 'F': ['C', 'G'], 'G': ['S', 'F', 'H'], 'H': ['G', 'E'], 'S': ['A', 'C', 'G']}\n"
          ]
        }
      ]
    },
    {
      "cell_type": "code",
      "source": [
        "visited=set()"
      ],
      "metadata": {
        "id": "ImTjGDCwLOxw"
      },
      "execution_count": null,
      "outputs": []
    },
    {
      "cell_type": "code",
      "source": [
        "def dfs(visited,graph,node):\n",
        "  if node not in visited:\n",
        "    print(node)\n",
        "    visited.add(node)\n",
        "    for neighbour in graph[node]:\n",
        "      dfs(visited,graph,neighbour)\n",
        "print(\"Following is the Depth_First_Search\")\n",
        "dfs(visited,graph,'A')"
      ],
      "metadata": {
        "colab": {
          "base_uri": "https://localhost:8080/"
        },
        "id": "RrdcjdWJLR2V",
        "outputId": "f8187377-45b3-408c-da5b-1864433e9161"
      },
      "execution_count": null,
      "outputs": [
        {
          "output_type": "stream",
          "name": "stdout",
          "text": [
            "Following is the Depth_First_Search\n",
            "A\n",
            "B\n",
            "S\n",
            "C\n",
            "D\n",
            "F\n",
            "G\n",
            "H\n",
            "E\n"
          ]
        }
      ]
    },
    {
      "cell_type": "markdown",
      "source": [
        "Part 3 – Implement A* Algorithm using Numpy"
      ],
      "metadata": {
        "id": "Wm0kGci-Tyc-"
      }
    },
    {
      "cell_type": "markdown",
      "source": [
        "1. A*Algorithm (pronounced as A-star) is a combination of ‘branch and bound search\n",
        "algorithm’ and ‘best search algorithm’ combined with the dynamic programming principle.\n",
        "2. The A* Algorithm is well-known because it is used for locating path and graph traversals.\n",
        "3. This algorithm is used in numerous online maps and games.\n",
        "4. It uses a heuristic or evaluation function usually denoted by f(X) to determine the order\n",
        "in which the search visits nodes in the tree.\n",
        "2\n",
        "5. The heuristic function for a node N is defined as follows:\n",
        "f(x) = g(x) + h(x) (1)\n",
        "where g(x) is the actual cost estimate, h(x) is the heuristic cost estimate for the gives\n",
        "states of the 8-puzzle problem"
      ],
      "metadata": {
        "id": "dJOuxwgATpIp"
      }
    },
    {
      "cell_type": "code",
      "source": [
        "import numpy as np\n",
        "import heapq\n",
        "\n",
        "class AStar:\n",
        "    def __init__(self, grid, start, goal):\n",
        "        self.grid = grid\n",
        "        self.start = start\n",
        "        self.goal = goal\n",
        "        self.open_list = []\n",
        "        self.closed_set = set()\n",
        "        self.parent_map = {}\n",
        "        self.g_costs = np.full(grid.shape, np.inf)\n",
        "        self.g_costs[start] = 0\n",
        "        heapq.heappush(self.open_list, (self.heuristic(start), start))\n",
        "\n",
        "    def heuristic(self, pos):\n",
        "        \"\"\"Heuristic function h(x) using Manhattan distance.\"\"\"\n",
        "        return abs(pos[0] - self.goal[0]) + abs(pos[1] - self.goal[1])\n",
        "\n",
        "    def get_neighbors(self, pos):\n",
        "        \"\"\"Returns valid neighbors of the current node.\"\"\"\n",
        "        neighbors = []\n",
        "        directions = [(-1, 0), (1, 0), (0, -1), (0, 1)]  # Up, Down, Left, Right\n",
        "        for d in directions:\n",
        "            neighbor = (pos[0] + d[0], pos[1] + d[1])\n",
        "            if 0 <= neighbor[0] < self.grid.shape[0] and 0 <= neighbor[1] < self.grid.shape[1]:\n",
        "                if self.grid[neighbor] == 0:  # Assuming 0 is a walkable cell\n",
        "                    neighbors.append(neighbor)\n",
        "        return neighbors\n",
        "\n",
        "    def reconstruct_path(self):\n",
        "        \"\"\"Reconstructs the path from goal to start.\"\"\"\n",
        "        path = []\n",
        "        current = self.goal\n",
        "        while current in self.parent_map:\n",
        "            path.append(current)\n",
        "            current = self.parent_map[current]\n",
        "        path.append(self.start)\n",
        "        path.reverse()\n",
        "        return path\n",
        "\n",
        "    def run(self):\n",
        "        \"\"\"Executes the A* algorithm.\"\"\"\n",
        "        while self.open_list:\n",
        "            current_cost, current = heapq.heappop(self.open_list)\n",
        "\n",
        "            if current == self.goal:\n",
        "                return self.reconstruct_path()\n",
        "\n",
        "            self.closed_set.add(current)\n",
        "\n",
        "            for neighbor in self.get_neighbors(current):\n",
        "                if neighbor in self.closed_set:\n",
        "                    continue\n",
        "\n",
        "                tentative_g_cost = self.g_costs[current] + 1  # Assuming uniform cost of 1 for each move\n",
        "\n",
        "                if tentative_g_cost < self.g_costs[neighbor]:\n",
        "                    self.parent_map[neighbor] = current\n",
        "                    self.g_costs[neighbor] = tentative_g_cost\n",
        "                    f_cost = tentative_g_cost + self.heuristic(neighbor)\n",
        "                    heapq.heappush(self.open_list, (f_cost, neighbor))\n",
        "\n",
        "        return None  # If no path is found\n",
        "\n",
        "# Example Usage\n",
        "grid = np.array([\n",
        "    [0, 1, 0, 0, 0],\n",
        "    [0, 1, 0, 1, 0],\n",
        "    [0, 0, 0, 1, 0],\n",
        "    [0, 1, 1, 1, 0],\n",
        "    [0, 0, 0, 0, 0]\n",
        "])\n",
        "\n",
        "start = (0, 0)\n",
        "goal = (4, 4)\n",
        "\n",
        "astar = AStar(grid, start, goal)\n",
        "path = astar.run()\n",
        "\n",
        "print(\"Path found:\", path)"
      ],
      "metadata": {
        "colab": {
          "base_uri": "https://localhost:8080/"
        },
        "id": "YYhnSX77URVk",
        "outputId": "e0b01546-1a62-46d3-90e4-1205135d1468"
      },
      "execution_count": 3,
      "outputs": [
        {
          "output_type": "stream",
          "name": "stdout",
          "text": [
            "Path found: [(0, 0), (1, 0), (2, 0), (3, 0), (4, 0), (4, 1), (4, 2), (4, 3), (4, 4)]\n"
          ]
        }
      ]
    }
  ]
}